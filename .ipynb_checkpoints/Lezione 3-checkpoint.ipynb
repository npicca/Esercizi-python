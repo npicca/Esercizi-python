{
 "cells": [
  {
   "cell_type": "code",
   "execution_count": 1,
   "metadata": {
    "collapsed": false
   },
   "outputs": [],
   "source": [
    "def prova(x):\n",
    "    return \"asd\""
   ]
  },
  {
   "cell_type": "code",
   "execution_count": 2,
   "metadata": {
    "collapsed": false
   },
   "outputs": [
    {
     "data": {
      "text/plain": [
       "('1', '2', '3', '4', '5', '0', '0', '0', '0', '0', '2', '3', '4', '2')"
      ]
     },
     "execution_count": 2,
     "metadata": {},
     "output_type": "execute_result"
    }
   ],
   "source": [
    "tuple(str(12345000002342))  "
   ]
  },
  {
   "cell_type": "markdown",
   "metadata": {},
   "source": [
    "literal: sequenza di caratteri;\n",
    "\n",
    "\n",
    "stringa: roba tra virgolette"
   ]
  },
  {
   "cell_type": "code",
   "execution_count": 3,
   "metadata": {
    "collapsed": false
   },
   "outputs": [
    {
     "data": {
      "text/plain": [
       "194"
      ]
     },
     "execution_count": 3,
     "metadata": {},
     "output_type": "execute_result"
    }
   ],
   "source": [
    "len(str(24**140))"
   ]
  },
  {
   "cell_type": "code",
   "execution_count": 1,
   "metadata": {
    "collapsed": false
   },
   "outputs": [],
   "source": [
    "msg = \"Ciao mondo\""
   ]
  },
  {
   "cell_type": "code",
   "execution_count": 2,
   "metadata": {
    "collapsed": false
   },
   "outputs": [
    {
     "data": {
      "text/plain": [
       "'Ciao mondo'"
      ]
     },
     "execution_count": 2,
     "metadata": {},
     "output_type": "execute_result"
    }
   ],
   "source": [
    "msg"
   ]
  },
  {
   "cell_type": "code",
   "execution_count": 6,
   "metadata": {
    "collapsed": false
   },
   "outputs": [
    {
     "data": {
      "text/plain": [
       "24"
      ]
     },
     "execution_count": 6,
     "metadata": {},
     "output_type": "execute_result"
    }
   ],
   "source": [
    "len(msg)"
   ]
  },
  {
   "cell_type": "code",
   "execution_count": 7,
   "metadata": {
    "collapsed": true
   },
   "outputs": [],
   "source": [
    "msg2=\"prova\""
   ]
  },
  {
   "cell_type": "code",
   "execution_count": 8,
   "metadata": {
    "collapsed": false
   },
   "outputs": [
    {
     "data": {
      "text/plain": [
       "'a'"
      ]
     },
     "execution_count": 8,
     "metadata": {},
     "output_type": "execute_result"
    }
   ],
   "source": [
    "msg[5]"
   ]
  },
  {
   "cell_type": "code",
   "execution_count": 9,
   "metadata": {
    "collapsed": false
   },
   "outputs": [
    {
     "data": {
      "text/plain": [
       "1"
      ]
     },
     "execution_count": 9,
     "metadata": {},
     "output_type": "execute_result"
    }
   ],
   "source": [
    "len(\"è\")"
   ]
  },
  {
   "cell_type": "code",
   "execution_count": 12,
   "metadata": {
    "collapsed": true
   },
   "outputs": [],
   "source": [
    "def add(a,b):\n",
    "    return a+b"
   ]
  },
  {
   "cell_type": "code",
   "execution_count": 51,
   "metadata": {
    "collapsed": false
   },
   "outputs": [
    {
     "data": {
      "text/plain": [
       "5"
      ]
     },
     "execution_count": 51,
     "metadata": {},
     "output_type": "execute_result"
    }
   ],
   "source": [
    "len(msg.split(\" \"))"
   ]
  },
  {
   "cell_type": "code",
   "execution_count": 35,
   "metadata": {
    "collapsed": true
   },
   "outputs": [],
   "source": [
    "def split(f,sgn):\n",
    "    return f.split(sgn)\n",
    "    "
   ]
  },
  {
   "cell_type": "code",
   "execution_count": 36,
   "metadata": {
    "collapsed": false
   },
   "outputs": [
    {
     "data": {
      "text/plain": [
       "['questa', 'non', 'è', 'una', 'stringa']"
      ]
     },
     "execution_count": 36,
     "metadata": {},
     "output_type": "execute_result"
    }
   ],
   "source": [
    "split(msg,\" \")"
   ]
  },
  {
   "cell_type": "code",
   "execution_count": 39,
   "metadata": {
    "collapsed": false
   },
   "outputs": [
    {
     "data": {
      "text/plain": [
       "['questa non è una str', 'nga']"
      ]
     },
     "execution_count": 39,
     "metadata": {},
     "output_type": "execute_result"
    }
   ],
   "source": [
    "split(msg,\"i\")"
   ]
  },
  {
   "cell_type": "code",
   "execution_count": 65,
   "metadata": {
    "collapsed": false
   },
   "outputs": [
    {
     "name": "stdout",
     "output_type": "stream",
     "text": [
      "Comparisons\n",
      "***********\n",
      "\n",
      "Unlike C, all comparison operations in Python have the same priority,\n",
      "which is lower than that of any arithmetic, shifting or bitwise\n",
      "operation.  Also unlike C, expressions like \"a < b < c\" have the\n",
      "interpretation that is conventional in mathematics:\n",
      "\n",
      "   comparison    ::= or_expr ( comp_operator or_expr )*\n",
      "   comp_operator ::= \"<\" | \">\" | \"==\" | \">=\" | \"<=\" | \"!=\"\n",
      "                     | \"is\" [\"not\"] | [\"not\"] \"in\"\n",
      "\n",
      "Comparisons yield boolean values: \"True\" or \"False\".\n",
      "\n",
      "Comparisons can be chained arbitrarily, e.g., \"x < y <= z\" is\n",
      "equivalent to \"x < y and y <= z\", except that \"y\" is evaluated only\n",
      "once (but in both cases \"z\" is not evaluated at all when \"x < y\" is\n",
      "found to be false).\n",
      "\n",
      "Formally, if *a*, *b*, *c*, ..., *y*, *z* are expressions and *op1*,\n",
      "*op2*, ..., *opN* are comparison operators, then \"a op1 b op2 c ... y\n",
      "opN z\" is equivalent to \"a op1 b and b op2 c and ... y opN z\", except\n",
      "that each expression is evaluated at most once.\n",
      "\n",
      "Note that \"a op1 b op2 c\" doesn't imply any kind of comparison between\n",
      "*a* and *c*, so that, e.g., \"x < y > z\" is perfectly legal (though\n",
      "perhaps not pretty).\n",
      "\n",
      "The operators \"<\", \">\", \"==\", \">=\", \"<=\", and \"!=\" compare the values\n",
      "of two objects.  The objects need not have the same type. If both are\n",
      "numbers, they are converted to a common type.  Otherwise, the \"==\" and\n",
      "\"!=\" operators *always* consider objects of different types to be\n",
      "unequal, while the \"<\", \">\", \">=\" and \"<=\" operators raise a\n",
      "\"TypeError\" when comparing objects of different types that do not\n",
      "implement these operators for the given pair of types.  You can\n",
      "control comparison behavior of objects of non-built-in types by\n",
      "defining rich comparison methods like \"__gt__()\", described in section\n",
      "*Basic customization*.\n",
      "\n",
      "Comparison of objects of the same type depends on the type:\n",
      "\n",
      "* Numbers are compared arithmetically.\n",
      "\n",
      "* The values \"float('NaN')\" and \"Decimal('NaN')\" are special. The\n",
      "  are identical to themselves, \"x is x\" but are not equal to\n",
      "  themselves, \"x != x\".  Additionally, comparing any value to a\n",
      "  not-a-number value will return \"False\".  For example, both \"3 <\n",
      "  float('NaN')\" and \"float('NaN') < 3\" will return \"False\".\n",
      "\n",
      "* Bytes objects are compared lexicographically using the numeric\n",
      "  values of their elements.\n",
      "\n",
      "* Strings are compared lexicographically using the numeric\n",
      "  equivalents (the result of the built-in function \"ord()\") of their\n",
      "  characters. [3] String and bytes object can't be compared!\n",
      "\n",
      "* Tuples and lists are compared lexicographically using comparison\n",
      "  of corresponding elements.  This means that to compare equal, each\n",
      "  element must compare equal and the two sequences must be of the same\n",
      "  type and have the same length.\n",
      "\n",
      "  If not equal, the sequences are ordered the same as their first\n",
      "  differing elements.  For example, \"[1,2,x] <= [1,2,y]\" has the same\n",
      "  value as \"x <= y\".  If the corresponding element does not exist, the\n",
      "  shorter sequence is ordered first (for example, \"[1,2] < [1,2,3]\").\n",
      "\n",
      "* Mappings (dictionaries) compare equal if and only if they have the\n",
      "  same \"(key, value)\" pairs. Order comparisons \"('<', '<=', '>=',\n",
      "  '>')\" raise \"TypeError\".\n",
      "\n",
      "* Sets and frozensets define comparison operators to mean subset and\n",
      "  superset tests.  Those relations do not define total orderings (the\n",
      "  two sets \"{1,2}\" and {2,3} are not equal, nor subsets of one\n",
      "  another, nor supersets of one another).  Accordingly, sets are not\n",
      "  appropriate arguments for functions which depend on total ordering.\n",
      "  For example, \"min()\", \"max()\", and \"sorted()\" produce undefined\n",
      "  results given a list of sets as inputs.\n",
      "\n",
      "* Most other objects of built-in types compare unequal unless they\n",
      "  are the same object; the choice whether one object is considered\n",
      "  smaller or larger than another one is made arbitrarily but\n",
      "  consistently within one execution of a program.\n",
      "\n",
      "Comparison of objects of differing types depends on whether either of\n",
      "the types provide explicit support for the comparison.  Most numeric\n",
      "types can be compared with one another.  When cross-type comparison is\n",
      "not supported, the comparison method returns \"NotImplemented\".\n",
      "\n",
      "The operators \"in\" and \"not in\" test for membership.  \"x in s\"\n",
      "evaluates to true if *x* is a member of *s*, and false otherwise.  \"x\n",
      "not in s\" returns the negation of \"x in s\".  All built-in sequences\n",
      "and set types support this as well as dictionary, for which \"in\" tests\n",
      "whether the dictionary has a given key. For container types such as\n",
      "list, tuple, set, frozenset, dict, or collections.deque, the\n",
      "expression \"x in y\" is equivalent to \"any(x is e or x == e for e in\n",
      "y)\".\n",
      "\n",
      "For the string and bytes types, \"x in y\" is true if and only if *x* is\n",
      "a substring of *y*.  An equivalent test is \"y.find(x) != -1\".  Empty\n",
      "strings are always considered to be a substring of any other string,\n",
      "so \"\"\" in \"abc\"\" will return \"True\".\n",
      "\n",
      "For user-defined classes which define the \"__contains__()\" method, \"x\n",
      "in y\" is true if and only if \"y.__contains__(x)\" is true.\n",
      "\n",
      "For user-defined classes which do not define \"__contains__()\" but do\n",
      "define \"__iter__()\", \"x in y\" is true if some value \"z\" with \"x == z\"\n",
      "is produced while iterating over \"y\".  If an exception is raised\n",
      "during the iteration, it is as if \"in\" raised that exception.\n",
      "\n",
      "Lastly, the old-style iteration protocol is tried: if a class defines\n",
      "\"__getitem__()\", \"x in y\" is true if and only if there is a non-\n",
      "negative integer index *i* such that \"x == y[i]\", and all lower\n",
      "integer indices do not raise \"IndexError\" exception.  (If any other\n",
      "exception is raised, it is as if \"in\" raised that exception).\n",
      "\n",
      "The operator \"not in\" is defined to have the inverse true value of\n",
      "\"in\".\n",
      "\n",
      "The operators \"is\" and \"is not\" test for object identity: \"x is y\" is\n",
      "true if and only if *x* and *y* are the same object.  \"x is not y\"\n",
      "yields the inverse truth value. [4]\n",
      "\n",
      "Related help topics: EXPRESSIONS, BASICMETHODS, OPERATORS\n",
      "\n"
     ]
    }
   ],
   "source": [
    "help(\">\")"
   ]
  },
  {
   "cell_type": "code",
   "execution_count": 66,
   "metadata": {
    "collapsed": false
   },
   "outputs": [],
   "source": [
    "def parola_in_testo(parola, testo,i=0):\n",
    "    if i < (len(testo.split(\" \"))): \n",
    "        if parola==testo.split()[i]:\n",
    "            return True\n",
    "        else:\n",
    "            i=i+1\n",
    "            return parola_in_testo(parola,testo,i)\n",
    "    else: \n",
    "        return False"
   ]
  },
  {
   "cell_type": "code",
   "execution_count": 79,
   "metadata": {
    "collapsed": false
   },
   "outputs": [
    {
     "data": {
      "text/plain": [
       "False"
      ]
     },
     "execution_count": 79,
     "metadata": {},
     "output_type": "execute_result"
    }
   ],
   "source": [
    "parola_in_testo2(\"as\",\"asd saddaf asd\")"
   ]
  },
  {
   "cell_type": "code",
   "execution_count": 82,
   "metadata": {
    "collapsed": false
   },
   "outputs": [],
   "source": [
    "def parola_in_testo2(parola, testo):\n",
    "    parole = testo.split()\n",
    "    l = len(parole)\n",
    "    i = 0\n",
    "    while i < l:\n",
    "        if parole[i] == parola:\n",
    "            return True\n",
    "        else:\n",
    "            i = i + 1\n",
    "    return False"
   ]
  },
  {
   "cell_type": "code",
   "execution_count": 87,
   "metadata": {
    "collapsed": false
   },
   "outputs": [
    {
     "ename": "AssertionError",
     "evalue": "",
     "output_type": "error",
     "traceback": [
      "\u001b[0;31m---------------------------------------------------------------------------\u001b[0m",
      "\u001b[0;31mAssertionError\u001b[0m                            Traceback (most recent call last)",
      "\u001b[0;32m<ipython-input-87-27f4748c39a5>\u001b[0m in \u001b[0;36m<module>\u001b[0;34m()\u001b[0m\n\u001b[0;32m----> 1\u001b[0;31m \u001b[0;32massert\u001b[0m \u001b[0mparola_in_testo\u001b[0m\u001b[0;34m(\u001b[0m\u001b[0;34m\"a\"\u001b[0m\u001b[0;34m,\u001b[0m\u001b[0;34m\"a domani\"\u001b[0m\u001b[0;34m)\u001b[0m\u001b[0;34m==\u001b[0m\u001b[0;32mFalse\u001b[0m\u001b[0;34m\u001b[0m\u001b[0m\n\u001b[0m",
      "\u001b[0;31mAssertionError\u001b[0m: "
     ]
    }
   ],
   "source": [
    "assert parola_in_testo(\"a\",\"a domani\")==False"
   ]
  },
  {
   "cell_type": "code",
   "execution_count": 7,
   "metadata": {
    "collapsed": true
   },
   "outputs": [],
   "source": [
    "def divide(n, d):\n",
    "    return not bool(n%d)"
   ]
  },
  {
   "cell_type": "code",
   "execution_count": 16,
   "metadata": {
    "collapsed": false
   },
   "outputs": [],
   "source": [
    "def divisori(n):\n",
    "    i=1\n",
    "    lista=[]\n",
    "    while i<=n:\n",
    "        if n%i==0:\n",
    "            lista = lista + [i]    \n",
    "        i=i+1\n",
    "    return lista"
   ]
  },
  {
   "cell_type": "code",
   "execution_count": 17,
   "metadata": {
    "collapsed": false
   },
   "outputs": [
    {
     "data": {
      "text/plain": [
       "[1, 2, 3, 4, 6, 12]"
      ]
     },
     "execution_count": 17,
     "metadata": {},
     "output_type": "execute_result"
    }
   ],
   "source": [
    "divisori(12)"
   ]
  },
  {
   "cell_type": "code",
   "execution_count": null,
   "metadata": {
    "collapsed": true
   },
   "outputs": [],
   "source": []
  }
 ],
 "metadata": {
  "kernelspec": {
   "display_name": "Python 3",
   "language": "python",
   "name": "python3"
  },
  "language_info": {
   "codemirror_mode": {
    "name": "ipython",
    "version": 3
   },
   "file_extension": ".py",
   "mimetype": "text/x-python",
   "name": "python",
   "nbconvert_exporter": "python",
   "pygments_lexer": "ipython3",
   "version": "3.4.3"
  }
 },
 "nbformat": 4,
 "nbformat_minor": 0
}
