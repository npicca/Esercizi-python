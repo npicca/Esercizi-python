{
 "cells": [
  {
   "cell_type": "code",
   "execution_count": 11,
   "metadata": {
    "collapsed": true
   },
   "outputs": [],
   "source": [
    "def cerca(parola, testo):\n",
    "    parole= testo.split()\n",
    "    l = len(parole)\n",
    "    i=0\n",
    "    while i<l:\n",
    "        if parole[i]==parola:\n",
    "            return True\n",
    "        i = i+1\n",
    "    return False\n"
   ]
  },
  {
   "cell_type": "code",
   "execution_count": 12,
   "metadata": {
    "collapsed": false
   },
   "outputs": [],
   "source": [
    "def primi():\n",
    "    i=0\n",
    "    while True:\n",
    "        if primo(i)==True:\n",
    "            print(i)\n",
    "        i=i+1\n",
    "    return \"Fine\""
   ]
  },
  {
   "cell_type": "markdown",
   "metadata": {},
   "source": [
    "Si può dimostrare che una funzione è corretta, ma è molto complicato"
   ]
  },
  {
   "cell_type": "code",
   "execution_count": 6,
   "metadata": {
    "collapsed": false
   },
   "outputs": [],
   "source": [
    "def cerca1(parola, testo):\n",
    "    parole = testo.split()\n",
    "    return parola_in_lista(parola, parole)\n",
    "def parola_in_lista(parola, parole):\n",
    "    l = len(parole)\n",
    "    i = 0\n",
    "    for el in parole:\n",
    "        if el == parola:\n",
    "            return True\n",
    "        i = i + 1\n",
    "        return False"
   ]
  },
  {
   "cell_type": "code",
   "execution_count": 7,
   "metadata": {
    "collapsed": false
   },
   "outputs": [
    {
     "data": {
      "text/plain": [
       "False"
      ]
     },
     "execution_count": 7,
     "metadata": {},
     "output_type": "execute_result"
    }
   ],
   "source": [
    "cerca1(\"quare\", \" latinorum\")"
   ]
  },
  {
   "cell_type": "code",
   "execution_count": 8,
   "metadata": {
    "collapsed": true
   },
   "outputs": [],
   "source": [
    "def conta(lista):\n",
    "    i=0\n",
    "    for parola in lista:\n",
    "        i=i+1\n",
    "    return i"
   ]
  },
  {
   "cell_type": "code",
   "execution_count": 9,
   "metadata": {
    "collapsed": false
   },
   "outputs": [],
   "source": [
    "def scomponi2(x):\n",
    "    i=2\n",
    "    lista=[]\n",
    "    k=0\n",
    "    while i<=x:\n",
    "        if x%i==0:\n",
    "            lista=lista+[i]\n",
    "        i=i+1\n",
    "    for item in lista:\n",
    "        if primo(item)==False:\n",
    "            del lista[k]\n",
    "            lista=lista+scomponi2(item)\n",
    "        k=k+1\n",
    "    return lista"
   ]
  },
  {
   "cell_type": "code",
   "execution_count": 17,
   "metadata": {
    "collapsed": false
   },
   "outputs": [
    {
     "data": {
      "text/plain": [
       "[2, 5]"
      ]
     },
     "execution_count": 17,
     "metadata": {},
     "output_type": "execute_result"
    }
   ],
   "source": [
    "scomponi2(10)"
   ]
  },
  {
   "cell_type": "code",
   "execution_count": 1,
   "metadata": {
    "collapsed": false
   },
   "outputs": [],
   "source": [
    "def primo(a):\n",
    "    return all(a%i for i in range(2,a))\n",
    "\n",
    "def scomponi(x):\n",
    "    i=2\n",
    "    lista=[]\n",
    "    while i<=x:\n",
    "        if x%i==0:\n",
    "            lista=lista+[i]\n",
    "        i=i+1\n",
    "    return lista\n",
    "\n",
    "def filtra_primi(x):\n",
    "    numeri=scomponi(x)\n",
    "    d=[]\n",
    "    for n in numeri:\n",
    "        if primo(n)==True:\n",
    "            d=d+[n]\n",
    "    return d\n",
    "\n",
    "def esponente(n,m):\n",
    "    esp=0\n",
    "    while m % n**esp == 0:\n",
    "        esp = esp + 1\n",
    "    return esp-1\n",
    "        \n",
    "\n",
    "def check_esponenti(x):\n",
    "    lista=filtra_primi(x)\n",
    "    i=0\n",
    "    while i<len(lista):\n",
    "        lista[i]=lista[i]**esponente(lista[i],x)\n",
    "        i=i+1\n",
    "    return lista\n",
    "\n",
    "def remove(lista, index):\n",
    "    return lista[:index] + lista[index+1:]\n",
    "\n",
    "def mcm1(x,y):\n",
    "    fattx=check_esponenti(x)\n",
    "    basx=filtra_primi(x)\n",
    "    fatty=check_esponenti(y)\n",
    "    basy=filtra_primi(y)\n",
    "    lista=[]\n",
    "    i = 0\n",
    "    k = 0\n",
    "    lista=fattx + fatty\n",
    "    while i < len(fattx):\n",
    "        while k < len(fatty):\n",
    "            if max(fattx[i], fatty[k]) % min(fattx[i], fatty[k])==0:\n",
    "                if fattx[i]>=fatty[k]:\n",
    "                    fatty=remove(fatty, k)\n",
    "                else:\n",
    "                    fattx=remove(fattx, i)\n",
    "            k=k+1\n",
    "        i=i+1\n",
    "    return fattx+fattx\n",
    "            "
   ]
  },
  {
   "cell_type": "code",
   "execution_count": 44,
   "metadata": {
    "collapsed": false
   },
   "outputs": [
    {
     "data": {
      "text/plain": [
       "2625"
      ]
     },
     "execution_count": 44,
     "metadata": {},
     "output_type": "execute_result"
    }
   ],
   "source": [
    "mcm(105,375)"
   ]
  },
  {
   "cell_type": "code",
   "execution_count": 42,
   "metadata": {
    "collapsed": true
   },
   "outputs": [],
   "source": [
    "def mcm(x,y):\n",
    "    massimo=max(x,y)\n",
    "    minimo=min(x,y)\n",
    "    i=1\n",
    "    while (i*minimo)%massimo!=0:\n",
    "        i=i+1\n",
    "    return i*minimo"
   ]
  },
  {
   "cell_type": "code",
   "execution_count": 38,
   "metadata": {
    "collapsed": false
   },
   "outputs": [
    {
     "data": {
      "text/plain": [
       "1583143007082"
      ]
     },
     "execution_count": 38,
     "metadata": {},
     "output_type": "execute_result"
    }
   ],
   "source": [
    "mcm(250334,6324123)"
   ]
  },
  {
   "cell_type": "code",
   "execution_count": 39,
   "metadata": {
    "collapsed": false
   },
   "outputs": [
    {
     "data": {
      "text/plain": [
       "[1, 2, 3, 4, 5, 6, 7, 8, 9, 10]"
      ]
     },
     "execution_count": 39,
     "metadata": {},
     "output_type": "execute_result"
    }
   ],
   "source": [
    "list(range(1,11))"
   ]
  },
  {
   "cell_type": "code",
   "execution_count": 40,
   "metadata": {
    "collapsed": false
   },
   "outputs": [
    {
     "name": "stdout",
     "output_type": "stream",
     "text": [
      "metti numero 5\n"
     ]
    }
   ],
   "source": [
    "n=input(\"metti numero \")"
   ]
  },
  {
   "cell_type": "code",
   "execution_count": null,
   "metadata": {
    "collapsed": false
   },
   "outputs": [],
   "source": []
  },
  {
   "cell_type": "code",
   "execution_count": null,
   "metadata": {
    "collapsed": true
   },
   "outputs": [],
   "source": []
  }
 ],
 "metadata": {
  "kernelspec": {
   "display_name": "Python 3",
   "language": "python",
   "name": "python3"
  },
  "language_info": {
   "codemirror_mode": {
    "name": "ipython",
    "version": 3
   },
   "file_extension": ".py",
   "mimetype": "text/x-python",
   "name": "python",
   "nbconvert_exporter": "python",
   "pygments_lexer": "ipython3",
   "version": "3.4.3"
  }
 },
 "nbformat": 4,
 "nbformat_minor": 0
}
